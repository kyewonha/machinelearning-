{
 "cells": [
  {
   "cell_type": "code",
   "execution_count": 3,
   "id": "caa8752e",
   "metadata": {},
   "outputs": [
    {
     "data": {
      "text/html": [
       "<div>\n",
       "<style scoped>\n",
       "    .dataframe tbody tr th:only-of-type {\n",
       "        vertical-align: middle;\n",
       "    }\n",
       "\n",
       "    .dataframe tbody tr th {\n",
       "        vertical-align: top;\n",
       "    }\n",
       "\n",
       "    .dataframe thead th {\n",
       "        text-align: right;\n",
       "    }\n",
       "</style>\n",
       "<table border=\"1\" class=\"dataframe\">\n",
       "  <thead>\n",
       "    <tr style=\"text-align: right;\">\n",
       "      <th></th>\n",
       "      <th>0</th>\n",
       "      <th>1</th>\n",
       "      <th>2</th>\n",
       "      <th>3</th>\n",
       "      <th>4</th>\n",
       "    </tr>\n",
       "  </thead>\n",
       "  <tbody>\n",
       "    <tr>\n",
       "      <th>145</th>\n",
       "      <td>6.7</td>\n",
       "      <td>3.0</td>\n",
       "      <td>5.2</td>\n",
       "      <td>2.3</td>\n",
       "      <td>Iris-virginica</td>\n",
       "    </tr>\n",
       "    <tr>\n",
       "      <th>146</th>\n",
       "      <td>6.3</td>\n",
       "      <td>2.5</td>\n",
       "      <td>5.0</td>\n",
       "      <td>1.9</td>\n",
       "      <td>Iris-virginica</td>\n",
       "    </tr>\n",
       "    <tr>\n",
       "      <th>147</th>\n",
       "      <td>6.5</td>\n",
       "      <td>3.0</td>\n",
       "      <td>5.2</td>\n",
       "      <td>2.0</td>\n",
       "      <td>Iris-virginica</td>\n",
       "    </tr>\n",
       "    <tr>\n",
       "      <th>148</th>\n",
       "      <td>6.2</td>\n",
       "      <td>3.4</td>\n",
       "      <td>5.4</td>\n",
       "      <td>2.3</td>\n",
       "      <td>Iris-virginica</td>\n",
       "    </tr>\n",
       "    <tr>\n",
       "      <th>149</th>\n",
       "      <td>5.9</td>\n",
       "      <td>3.0</td>\n",
       "      <td>5.1</td>\n",
       "      <td>1.8</td>\n",
       "      <td>Iris-virginica</td>\n",
       "    </tr>\n",
       "  </tbody>\n",
       "</table>\n",
       "</div>"
      ],
      "text/plain": [
       "       0    1    2    3               4\n",
       "145  6.7  3.0  5.2  2.3  Iris-virginica\n",
       "146  6.3  2.5  5.0  1.9  Iris-virginica\n",
       "147  6.5  3.0  5.2  2.0  Iris-virginica\n",
       "148  6.2  3.4  5.4  2.3  Iris-virginica\n",
       "149  5.9  3.0  5.1  1.8  Iris-virginica"
      ]
     },
     "execution_count": 3,
     "metadata": {},
     "output_type": "execute_result"
    }
   ],
   "source": [
    "import pandas as pd\n",
    "df = pd.read_csv('https://archive.ics.uci.edu/ml/machine-learning-databases/iris/iris.data', header=None)\n",
    "df.tail()"
   ]
  },
  {
   "cell_type": "code",
   "execution_count": 4,
   "id": "6de4fb3b",
   "metadata": {},
   "outputs": [
    {
     "data": {
      "text/plain": [
       "array([50, 50], dtype=int64)"
      ]
     },
     "execution_count": 4,
     "metadata": {},
     "output_type": "execute_result"
    }
   ],
   "source": [
    "import matplotlib.pyplot as plt\n",
    "import numpy as np\n",
    "y= df.iloc[0:100, 4].values\n",
    "# series가 아닌 ndarray 객체라 value_counts는 쓸 수 없다.\n",
    "np.unique( y , return_counts=True)[1] "
   ]
  },
  {
   "cell_type": "code",
   "execution_count": 5,
   "id": "8d77bc35",
   "metadata": {},
   "outputs": [],
   "source": [
    "y= np.where(y=='Iris-setosa', 1,-1)\n",
    "\n",
    "#sepal_length 와 petal_length를 추출한다.\n",
    "X= df.iloc[0:100, [0,2]].values\n"
   ]
  },
  {
   "cell_type": "code",
   "execution_count": 6,
   "id": "331d05f2",
   "metadata": {},
   "outputs": [
    {
     "data": {
      "image/png": "[encoded data removed]",
      "text/plain": [
       "<Figure size 432x288 with 1 Axes>"
      ]
     },
     "metadata": {
      "needs_background": "light"
     },
     "output_type": "display_data"
    }
   ],
   "source": [
    "# 2차원 산점도를 사용해 시각화한다.\n",
    "# 입력변수를 50/ 50으로 나눠준다.\n",
    "\n",
    "plt.scatter(X[:50,0], X[:50,1], color='red', marker='o', label='setosa')\n",
    "plt.scatter(X[50:100,0], X[50:100,1], color ='blue', marker='x', label='versicolor')\n",
    "plt.xlabel('petal length')\n",
    "plt.ylabel('sepal length')\n",
    "plt.legend(loc='upper left')\n",
    "plt.show()"
   ]
  },
  {
   "cell_type": "code",
   "execution_count": 7,
   "id": "dcaa9eca",
   "metadata": {},
   "outputs": [],
   "source": [
    "#perceptron 클래스 생성\n",
    "\n",
    "class Perceptron(object):\n",
    "    '''\n",
    "    parameters\n",
    "    \n",
    "    eta: learning rate\n",
    "    n_iter: pass over the training dataset\n",
    "    \n",
    "    w_ : weights after fitting\n",
    "    errors: number of misclassifications in every epoch\n",
    "    \n",
    "    '''\n",
    "    \n",
    "    def __init__(self, eta=0.01, n_iter=10):\n",
    "        self.eta = eta\n",
    "        self.n_iter = n_iter\n",
    "        \n",
    "        \n",
    "    def fit(self, X, y):\n",
    "        self.w_ = np.zeros(1 + X.shape[1])\n",
    "        self.errors_=[]\n",
    "        \n",
    "        for _ in range(self.n_iter):\n",
    "            errors=0\n",
    "            for xi, target in zip(X,y):\n",
    "                update= self.eta * (target - self.predict(xi))\n",
    "                self.w_[1:] += update * xi\n",
    "                self.w_[0] += update\n",
    "                \n",
    "                errors += int(update != 0.0)\n",
    "            self.errors_.append(errors)\n",
    "        return self\n",
    "    \n",
    "    def net_input(self, X):\n",
    "        return np.dot(X, self.w_[1:]) + self.w_[0]\n",
    "    \n",
    "    def predict(self, X):\n",
    "        return np.where(self.net_input(X)>=0.0 ,1 ,-1)\n",
    "            "
   ]
  },
  {
   "cell_type": "code",
   "execution_count": 8,
   "id": "ff6a27b4",
   "metadata": {},
   "outputs": [
    {
     "data": {
      "text/plain": [
       "<__main__.Perceptron at 0x1831dd040a0>"
      ]
     },
     "execution_count": 8,
     "metadata": {},
     "output_type": "execute_result"
    }
   ],
   "source": [
    "ppn = Perceptron(eta=0.1, n_iter=10)\n",
    "ppn.fit(X,y)"
   ]
  },
  {
   "cell_type": "code",
   "execution_count": 9,
   "id": "b9849db4",
   "metadata": {},
   "outputs": [
    {
     "data": {
      "text/plain": [
       "(array([[5.1, 1.4],\n",
       "        [4.9, 1.4],\n",
       "        [4.7, 1.3],\n",
       "        [4.6, 1.5],\n",
       "        [5. , 1.4],\n",
       "        [5.4, 1.7],\n",
       "        [4.6, 1.4],\n",
       "        [5. , 1.5],\n",
       "        [4.4, 1.4],\n",
       "        [4.9, 1.5],\n",
       "        [5.4, 1.5],\n",
       "        [4.8, 1.6],\n",
       "        [4.8, 1.4],\n",
       "        [4.3, 1.1],\n",
       "        [5.8, 1.2],\n",
       "        [5.7, 1.5],\n",
       "        [5.4, 1.3],\n",
       "        [5.1, 1.4],\n",
       "        [5.7, 1.7],\n",
       "        [5.1, 1.5],\n",
       "        [5.4, 1.7],\n",
       "        [5.1, 1.5],\n",
       "        [4.6, 1. ],\n",
       "        [5.1, 1.7],\n",
       "        [4.8, 1.9],\n",
       "        [5. , 1.6],\n",
       "        [5. , 1.6],\n",
       "        [5.2, 1.5],\n",
       "        [5.2, 1.4],\n",
       "        [4.7, 1.6],\n",
       "        [4.8, 1.6],\n",
       "        [5.4, 1.5],\n",
       "        [5.2, 1.5],\n",
       "        [5.5, 1.4],\n",
       "        [4.9, 1.5],\n",
       "        [5. , 1.2],\n",
       "        [5.5, 1.3],\n",
       "        [4.9, 1.5],\n",
       "        [4.4, 1.3],\n",
       "        [5.1, 1.5],\n",
       "        [5. , 1.3],\n",
       "        [4.5, 1.3],\n",
       "        [4.4, 1.3],\n",
       "        [5. , 1.6],\n",
       "        [5.1, 1.9],\n",
       "        [4.8, 1.4],\n",
       "        [5.1, 1.6],\n",
       "        [4.6, 1.4],\n",
       "        [5.3, 1.5],\n",
       "        [5. , 1.4],\n",
       "        [7. , 4.7],\n",
       "        [6.4, 4.5],\n",
       "        [6.9, 4.9],\n",
       "        [5.5, 4. ],\n",
       "        [6.5, 4.6],\n",
       "        [5.7, 4.5],\n",
       "        [6.3, 4.7],\n",
       "        [4.9, 3.3],\n",
       "        [6.6, 4.6],\n",
       "        [5.2, 3.9],\n",
       "        [5. , 3.5],\n",
       "        [5.9, 4.2],\n",
       "        [6. , 4. ],\n",
       "        [6.1, 4.7],\n",
       "        [5.6, 3.6],\n",
       "        [6.7, 4.4],\n",
       "        [5.6, 4.5],\n",
       "        [5.8, 4.1],\n",
       "        [6.2, 4.5],\n",
       "        [5.6, 3.9],\n",
       "        [5.9, 4.8],\n",
       "        [6.1, 4. ],\n",
       "        [6.3, 4.9],\n",
       "        [6.1, 4.7],\n",
       "        [6.4, 4.3],\n",
       "        [6.6, 4.4],\n",
       "        [6.8, 4.8],\n",
       "        [6.7, 5. ],\n",
       "        [6. , 4.5],\n",
       "        [5.7, 3.5],\n",
       "        [5.5, 3.8],\n",
       "        [5.5, 3.7],\n",
       "        [5.8, 3.9],\n",
       "        [6. , 5.1],\n",
       "        [5.4, 4.5],\n",
       "        [6. , 4.5],\n",
       "        [6.7, 4.7],\n",
       "        [6.3, 4.4],\n",
       "        [5.6, 4.1],\n",
       "        [5.5, 4. ],\n",
       "        [5.5, 4.4],\n",
       "        [6.1, 4.6],\n",
       "        [5.8, 4. ],\n",
       "        [5. , 3.3],\n",
       "        [5.6, 4.2],\n",
       "        [5.7, 4.2],\n",
       "        [5.7, 4.2],\n",
       "        [6.2, 4.3],\n",
       "        [5.1, 3. ],\n",
       "        [5.7, 4.1]]),\n",
       " array([ 1,  1,  1,  1,  1,  1,  1,  1,  1,  1,  1,  1,  1,  1,  1,  1,  1,\n",
       "         1,  1,  1,  1,  1,  1,  1,  1,  1,  1,  1,  1,  1,  1,  1,  1,  1,\n",
       "         1,  1,  1,  1,  1,  1,  1,  1,  1,  1,  1,  1,  1,  1,  1,  1, -1,\n",
       "        -1, -1, -1, -1, -1, -1, -1, -1, -1, -1, -1, -1, -1, -1, -1, -1, -1,\n",
       "        -1, -1, -1, -1, -1, -1, -1, -1, -1, -1, -1, -1, -1, -1, -1, -1, -1,\n",
       "        -1, -1, -1, -1, -1, -1, -1, -1, -1, -1, -1, -1, -1, -1, -1]))"
      ]
     },
     "execution_count": 9,
     "metadata": {},
     "output_type": "execute_result"
    }
   ],
   "source": [
    "X,y"
   ]
  },
  {
   "cell_type": "code",
   "execution_count": 15,
   "id": "89f4e67d",
   "metadata": {},
   "outputs": [
    {
     "data": {
      "text/plain": [
       "[1, 3, 3, 2, 1, 0, 0, 0, 0, 0]"
      ]
     },
     "execution_count": 15,
     "metadata": {},
     "output_type": "execute_result"
    }
   ],
   "source": [
    "ppn.errors_"
   ]
  },
  {
   "cell_type": "code",
   "execution_count": 10,
   "id": "c8e336f1",
   "metadata": {},
   "outputs": [
    {
     "data": {
      "image/png": "[encoded data removed]",
      "text/plain": [
       "<Figure size 432x288 with 1 Axes>"
      ]
     },
     "metadata": {
      "needs_background": "light"
     },
     "output_type": "display_data"
    }
   ],
   "source": [
    "plt.plot(range(1, len(ppn.errors_)+1), ppn.errors_, marker='o')\n",
    "plt.xlabel('Epochs')\n",
    "plt.ylabel('Number of misclassification')\n",
    "plt.show()"
   ]
  },
  {
   "cell_type": "code",
   "execution_count": 11,
   "id": "d37a65af",
   "metadata": {},
   "outputs": [
    {
     "data": {
      "text/plain": [
       "10"
      ]
     },
     "execution_count": 11,
     "metadata": {},
     "output_type": "execute_result"
    }
   ],
   "source": [
    "len(ppn.errors_)"
   ]
  },
  {
   "cell_type": "code",
   "execution_count": 12,
   "id": "5d2be338",
   "metadata": {},
   "outputs": [],
   "source": [
    "from matplotlib.colors import ListedColormap"
   ]
  },
  {
   "cell_type": "code",
   "execution_count": 13,
   "id": "ed5eec1b",
   "metadata": {},
   "outputs": [],
   "source": [
    "def plot_decision_regions(X, y , classifier, resolution=0.02):\n",
    "        #산점도 마커, 색상\n",
    "        markers=('s', 'x', 'o', '^', 'v')\n",
    "        colors=('red','blue','lightgreen','gray','cyan')\n",
    "        cmap= ListedColormap(colors[:len(np.unique(y))])\n",
    "        \n",
    "        x1_min, x1_max = X[:,0].min()-1, X[:,0].max()+1\n",
    "        x2_min, x2_max= X[:,1].min()-1, X[:,1].max()+1\n",
    "        xx1, xx2 = np.meshgrid(np.arange(x1_min, x1_max, resolution), np.arange(x2_min, x2_max, resolution))\n",
    "        print(x1_min, x1_max, x2_min, x2_max)\n",
    "        # classifier는 위에서 만든 perceptron 클래스 다. predict 인수로 X를 받는데 이때  x는 특성이 2인 행렬이다. \n",
    "        # 특성이 2다는 것은 , 열이 2 . ravel() 을 통해 2행을 만들고 transpose해 2열의 array를 만든다. \n",
    "        # predict를 통해 1차원의 값을 만든다.\n",
    "        \n",
    "        Z= classifier.predict(np.array([xx1.ravel(), xx2.ravel()]).T)\n",
    "        \n",
    "    # reshape를 통해 예측값의 shape를 바꿔준다.\n",
    "    #등고선과 색상 구분만 해준다. 산점도는 밑에서\n",
    "    # Z는 xx1, xx2에서의 예측값을 나타내는 2차원 배열. 등고선의 높이로 사용된다.\n",
    "        Z= Z.reshape(xx1.shape)\n",
    "        print(Z.shape)\n",
    "        plt.contourf(xx1, xx2, Z, alpha=0.4,cmap=cmap)\n",
    "        plt.ylim(xx2.min(), xx2.max())\n",
    "        plt.xlim(xx1.min(), xx1.max())\n",
    "        \n",
    "        for idx, cl in enumerate(np.unique(y)):\n",
    "            # X에서 y레이블이 cl값인 경우의 첫번째 특성값 -> x , X에서 y레이블이 cl인 두번째 특성값 -> y\n",
    "            plt.scatter(x=X[y== cl, 0], y=X[y==cl, 1],\n",
    "                       alpha=0.8, c= cmap(idx),\n",
    "                       marker=markers[idx], label=cl)\n",
    "            "
   ]
  },
  {
   "cell_type": "code",
   "execution_count": 14,
   "id": "a671d875",
   "metadata": {},
   "outputs": [
    {
     "name": "stderr",
     "output_type": "stream",
     "text": [
      "*c* argument looks like a single numeric RGB or RGBA sequence, which should be avoided as value-mapping will have precedence in case its length matches with *x* & *y*.  Please use the *color* keyword-argument or provide a 2D array with a single row if you intend to specify the same RGB or RGBA value for all points.\n",
      "*c* argument looks like a single numeric RGB or RGBA sequence, which should be avoided as value-mapping will have precedence in case its length matches with *x* & *y*.  Please use the *color* keyword-argument or provide a 2D array with a single row if you intend to specify the same RGB or RGBA value for all points.\n"
     ]
    },
    {
     "name": "stdout",
     "output_type": "stream",
     "text": [
      "3.3 8.0 0.0 6.1\n",
      "(305, 235)\n"
     ]
    },
    {
     "data": {
      "image/png": "[encoded data removed]",
      "text/plain": [
       "<Figure size 432x288 with 1 Axes>"
      ]
     },
     "metadata": {
      "needs_background": "light"
     },
     "output_type": "display_data"
    }
   ],
   "source": [
    "plot_decision_regions(X,y, classifier=ppn)"
   ]
  },
  {
   "cell_type": "code",
   "execution_count": null,
   "id": "279e3f2c",
   "metadata": {},
   "outputs": [],
   "source": []
  },
  {
   "cell_type": "raw",
   "id": "502605e5",
   "metadata": {},
   "source": []
  }
 ],
 "metadata": {
  "kernelspec": {
   "display_name": "Python 3 (ipykernel)",
   "language": "python",
   "name": "python3"
  },
  "language_info": {
   "codemirror_mode": {
    "name": "ipython",
    "version": 3
   },
   "file_extension": ".py",
   "mimetype": "text/x-python",
   "name": "python",
   "nbconvert_exporter": "python",
   "pygments_lexer": "ipython3",
   "version": "3.9.7"
  }
 },
 "nbformat": 4,
 "nbformat_minor": 5
}
