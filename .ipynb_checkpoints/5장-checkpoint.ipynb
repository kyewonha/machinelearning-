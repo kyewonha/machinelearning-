{
 "cells": [
  {
   "cell_type": "markdown",
   "id": "c56bb1f2",
   "metadata": {},
   "source": [
    "## 순서가 없는 범주형 특성 인코딩하기\n"
   ]
  },
  {
   "cell_type": "code",
   "execution_count": 2,
   "id": "fe3406b8",
   "metadata": {},
   "outputs": [],
   "source": [
    "import numpy as np\n",
    "from sklearn.preprocessing import LabelBinarizer, MultiLabelBinarizer"
   ]
  },
  {
   "cell_type": "code",
   "execution_count": 3,
   "id": "a39a32fb",
   "metadata": {},
   "outputs": [],
   "source": [
    "feature = np.array([['Texas'],['California'],['Texas'],['Delaware'],['Texas']])"
   ]
  },
  {
   "cell_type": "code",
   "execution_count": 4,
   "id": "74de22b7",
   "metadata": {},
   "outputs": [],
   "source": [
    "#원핫인코딩\n",
    "one_hot= LabelBinarizer()"
   ]
  },
  {
   "cell_type": "code",
   "execution_count": 5,
   "id": "250399b0",
   "metadata": {},
   "outputs": [
    {
     "data": {
      "text/plain": [
       "array([[0, 0, 1],\n",
       "       [1, 0, 0],\n",
       "       [0, 0, 1],\n",
       "       [0, 1, 0],\n",
       "       [0, 0, 1]])"
      ]
     },
     "execution_count": 5,
     "metadata": {},
     "output_type": "execute_result"
    }
   ],
   "source": [
    "one_hot.fit_transform(feature)"
   ]
  },
  {
   "cell_type": "code",
   "execution_count": 6,
   "id": "1b0d8485",
   "metadata": {},
   "outputs": [
    {
     "data": {
      "text/plain": [
       "array(['California', 'Delaware', 'Texas'], dtype='<U10')"
      ]
     },
     "execution_count": 6,
     "metadata": {},
     "output_type": "execute_result"
    }
   ],
   "source": [
    "one_hot.classes_"
   ]
  },
  {
   "cell_type": "code",
   "execution_count": 8,
   "id": "6c9e712d",
   "metadata": {},
   "outputs": [],
   "source": [
    "import pandas as pd\n",
    "dataframe = pd.DataFrame({'Score':['low','low','medium','medium','high']})"
   ]
  },
  {
   "cell_type": "code",
   "execution_count": 9,
   "id": "5aa9815a",
   "metadata": {},
   "outputs": [
    {
     "data": {
      "text/plain": [
       "0    1\n",
       "1    1\n",
       "2    2\n",
       "3    2\n",
       "4    3\n",
       "Name: Score, dtype: int64"
      ]
     },
     "execution_count": 9,
     "metadata": {},
     "output_type": "execute_result"
    }
   ],
   "source": [
    "#replace를 이용해 딕셔너리 매핑을 통해 value 리턴\n",
    "scale_mapper={'low':1,'medium':2,'high':3}\n",
    "dataframe['Score'].replace(scale_mapper)"
   ]
  },
  {
   "cell_type": "code",
   "execution_count": 10,
   "id": "a81ce3fe",
   "metadata": {},
   "outputs": [],
   "source": [
    "from sklearn.feature_extraction import DictVectorizer"
   ]
  },
  {
   "cell_type": "code",
   "execution_count": 11,
   "id": "ab6b5ddd",
   "metadata": {},
   "outputs": [],
   "source": [
    "data_dict=[{'Red':2 , \"Blue\":4},\n",
    "          {'Red':4, 'Blue':3},\n",
    "          {'Red':1, \"Yellow\":2},\n",
    "          {'Red':2, \"Yellow\":2}]"
   ]
  },
  {
   "cell_type": "code",
   "execution_count": 12,
   "id": "a1c02436",
   "metadata": {},
   "outputs": [],
   "source": [
    "dictvectorizer= DictVectorizer(sparse=False)"
   ]
  },
  {
   "cell_type": "code",
   "execution_count": 13,
   "id": "3e2d83ed",
   "metadata": {},
   "outputs": [
    {
     "data": {
      "text/plain": [
       "array([[4., 2., 0.],\n",
       "       [3., 4., 0.],\n",
       "       [0., 1., 2.],\n",
       "       [0., 2., 2.]])"
      ]
     },
     "execution_count": 13,
     "metadata": {},
     "output_type": "execute_result"
    }
   ],
   "source": [
    "features = dictvectorizer.fit_transform(data_dict)\n",
    "features"
   ]
  },
  {
   "cell_type": "markdown",
   "id": "9aedda85",
   "metadata": {},
   "source": [
    "## 누락된 클래스 값 대체하기"
   ]
  },
  {
   "cell_type": "code",
   "execution_count": 15,
   "id": "7b1d72fa",
   "metadata": {},
   "outputs": [],
   "source": [
    "import numpy as np\n",
    "from sklearn.neighbors import KNeighborsClassifier"
   ]
  },
  {
   "cell_type": "code",
   "execution_count": 16,
   "id": "8447c182",
   "metadata": {},
   "outputs": [],
   "source": [
    "X= np.array([[0, 2.10, 1.45],\n",
    "            [1, 1.18, 1.33],\n",
    "            [0, 1.22, 1.27],\n",
    "            [1, -0.21, -1.19]])"
   ]
  },
  {
   "cell_type": "code",
   "execution_count": 17,
   "id": "9537738c",
   "metadata": {},
   "outputs": [],
   "source": [
    "#누락값있는 데이터 첫 열(타겟 열을 예측해서 집어넣으려 함.)\n",
    "X_with_nan = np.array([[np.nan, 0.87, 1.31],\n",
    "                      [np.nan, -0.67, -0.22]])"
   ]
  },
  {
   "cell_type": "code",
   "execution_count": 18,
   "id": "d625175f",
   "metadata": {},
   "outputs": [],
   "source": [
    "#k KNN 알고리즘을 통해 훈련\n",
    "clf = KNeighborsClassifier(3, weights='distance')\n",
    "trained_model = clf.fit(X[:,1:], X[:,0])"
   ]
  },
  {
   "cell_type": "code",
   "execution_count": 29,
   "id": "2afeffea",
   "metadata": {},
   "outputs": [
    {
     "data": {
      "text/plain": [
       "array([[0.],\n",
       "       [1.]])"
      ]
     },
     "execution_count": 29,
     "metadata": {},
     "output_type": "execute_result"
    }
   ],
   "source": [
    "#predict를 통한 예측\n",
    "\n",
    "imputed_values= trained_model.predict(X_with_nan[:,1:])\n",
    "imputed_values.reshape(-1,1)"
   ]
  },
  {
   "cell_type": "code",
   "execution_count": 31,
   "id": "02bb97b5",
   "metadata": {},
   "outputs": [
    {
     "data": {
      "text/plain": [
       "array([[ 0.  ,  0.87,  1.31],\n",
       "       [ 1.  , -0.67, -0.22]])"
      ]
     },
     "execution_count": 31,
     "metadata": {},
     "output_type": "execute_result"
    }
   ],
   "source": [
    "X_with_imputed = np.hstack((imputed_values.reshape(-1,1), X_with_nan[:,1:]))\n",
    "X_with_imputed"
   ]
  },
  {
   "cell_type": "code",
   "execution_count": 24,
   "id": "a59d71c2",
   "metadata": {},
   "outputs": [
    {
     "data": {
      "text/plain": [
       "<matplotlib.collections.PathCollection at 0x1734cf445e0>"
      ]
     },
     "execution_count": 24,
     "metadata": {},
     "output_type": "execute_result"
    },
    {
     "data": {
      "image/png": "[encoded data removed]",
      "text/plain": [
       "<Figure size 432x288 with 1 Axes>"
      ]
     },
     "metadata": {
      "needs_background": "light"
     },
     "output_type": "display_data"
    }
   ],
   "source": [
    "df_X= pd.DataFrame(X)\n",
    "df_Xnan = pd.DataFrame(X_with_nan)\n",
    "df_Xnan\n",
    "import matplotlib.pyplot as plt\n",
    "plt.scatter(df_X[1], df_X[2])\n",
    "plt.scatter(df_Xnan[1], df_Xnan[2])"
   ]
  },
  {
   "cell_type": "markdown",
   "id": "06009757",
   "metadata": {},
   "source": [
    "## 불균형한 클래스 다루기"
   ]
  },
  {
   "cell_type": "code",
   "execution_count": 20,
   "id": "f8d7ad76",
   "metadata": {},
   "outputs": [],
   "source": [
    "from sklearn.ensemble import RandomForestClassifier\n",
    "import numpy as np\n",
    "from sklearn.datasets import load_iris"
   ]
  },
  {
   "cell_type": "code",
   "execution_count": 21,
   "id": "892c4cd1",
   "metadata": {},
   "outputs": [
    {
     "data": {
      "text/plain": [
       "array([0, 0, 0, 0, 0, 0, 0, 0, 0, 0, 0, 0, 0, 0, 0, 0, 0, 0, 0, 0, 0, 0,\n",
       "       0, 0, 0, 0, 0, 0, 0, 0, 0, 0, 0, 0, 0, 0, 0, 0, 0, 0, 0, 0, 0, 0,\n",
       "       0, 0, 0, 0, 0, 0, 1, 1, 1, 1, 1, 1, 1, 1, 1, 1, 1, 1, 1, 1, 1, 1,\n",
       "       1, 1, 1, 1, 1, 1, 1, 1, 1, 1, 1, 1, 1, 1, 1, 1, 1, 1, 1, 1, 1, 1,\n",
       "       1, 1, 1, 1, 1, 1, 1, 1, 1, 1, 1, 1, 2, 2, 2, 2, 2, 2, 2, 2, 2, 2,\n",
       "       2, 2, 2, 2, 2, 2, 2, 2, 2, 2, 2, 2, 2, 2, 2, 2, 2, 2, 2, 2, 2, 2,\n",
       "       2, 2, 2, 2, 2, 2, 2, 2, 2, 2, 2, 2, 2, 2, 2, 2, 2, 2])"
      ]
     },
     "execution_count": 21,
     "metadata": {},
     "output_type": "execute_result"
    }
   ],
   "source": [
    "iris = load_iris()\n",
    "iris.target"
   ]
  },
  {
   "cell_type": "code",
   "execution_count": 22,
   "id": "597e55fb",
   "metadata": {},
   "outputs": [
    {
     "data": {
      "text/plain": [
       "['sepal length (cm)',\n",
       " 'sepal width (cm)',\n",
       " 'petal length (cm)',\n",
       " 'petal width (cm)']"
      ]
     },
     "execution_count": 22,
     "metadata": {},
     "output_type": "execute_result"
    }
   ],
   "source": [
    "iris['feature_names']"
   ]
  },
  {
   "cell_type": "code",
   "execution_count": 23,
   "id": "a89a423b",
   "metadata": {},
   "outputs": [
    {
     "data": {
      "text/plain": [
       "array(['setosa', 'versicolor', 'virginica'], dtype='<U10')"
      ]
     },
     "execution_count": 23,
     "metadata": {},
     "output_type": "execute_result"
    }
   ],
   "source": [
    "iris['target_names']"
   ]
  },
  {
   "cell_type": "code",
   "execution_count": 24,
   "id": "20cb7edd",
   "metadata": {},
   "outputs": [],
   "source": [
    "features= iris.data\n",
    "target= iris.target"
   ]
  },
  {
   "cell_type": "code",
   "execution_count": 25,
   "id": "e401159c",
   "metadata": {},
   "outputs": [
    {
     "data": {
      "text/plain": [
       "((150, 4), (150,))"
      ]
     },
     "execution_count": 25,
     "metadata": {},
     "output_type": "execute_result"
    }
   ],
   "source": [
    "features.shape, target.shape"
   ]
  },
  {
   "cell_type": "code",
   "execution_count": 26,
   "id": "849c91cc",
   "metadata": {},
   "outputs": [],
   "source": [
    "# 40개의 데이터를 삭제한다.\n",
    "features=features[40:,:]\n",
    "target= target[40:]\n"
   ]
  },
  {
   "cell_type": "code",
   "execution_count": 27,
   "id": "9da8215b",
   "metadata": {},
   "outputs": [
    {
     "data": {
      "text/plain": [
       "array([0, 0, 0, 0, 0, 0, 0, 0, 0, 0, 1, 1, 1, 1, 1, 1, 1, 1, 1, 1, 1, 1,\n",
       "       1, 1, 1, 1, 1, 1, 1, 1, 1, 1, 1, 1, 1, 1, 1, 1, 1, 1, 1, 1, 1, 1,\n",
       "       1, 1, 1, 1, 1, 1, 1, 1, 1, 1, 1, 1, 1, 1, 1, 1, 2, 2, 2, 2, 2, 2,\n",
       "       2, 2, 2, 2, 2, 2, 2, 2, 2, 2, 2, 2, 2, 2, 2, 2, 2, 2, 2, 2, 2, 2,\n",
       "       2, 2, 2, 2, 2, 2, 2, 2, 2, 2, 2, 2, 2, 2, 2, 2, 2, 2, 2, 2, 2, 2])"
      ]
     },
     "execution_count": 27,
     "metadata": {},
     "output_type": "execute_result"
    }
   ],
   "source": [
    "target"
   ]
  },
  {
   "cell_type": "code",
   "execution_count": 28,
   "id": "f53f2ad9",
   "metadata": {},
   "outputs": [
    {
     "data": {
      "text/plain": [
       "array([0, 0, 0, 0, 0, 0, 0, 0, 0, 0, 1, 1, 1, 1, 1, 1, 1, 1, 1, 1, 1, 1,\n",
       "       1, 1, 1, 1, 1, 1, 1, 1, 1, 1, 1, 1, 1, 1, 1, 1, 1, 1, 1, 1, 1, 1,\n",
       "       1, 1, 1, 1, 1, 1, 1, 1, 1, 1, 1, 1, 1, 1, 1, 1, 1, 1, 1, 1, 1, 1,\n",
       "       1, 1, 1, 1, 1, 1, 1, 1, 1, 1, 1, 1, 1, 1, 1, 1, 1, 1, 1, 1, 1, 1,\n",
       "       1, 1, 1, 1, 1, 1, 1, 1, 1, 1, 1, 1, 1, 1, 1, 1, 1, 1, 1, 1, 1, 1])"
      ]
     },
     "execution_count": 28,
     "metadata": {},
     "output_type": "execute_result"
    }
   ],
   "source": [
    "#이진 타겟 벡터를 만들어라 \n",
    "# setosa 그룹(0) 과 아닌 그룹(1)로 나눈다. target_names로 각각이 무엇인지 우선 알아내자.\n",
    "target = np.where((target==0),0,1)\n",
    "target"
   ]
  },
  {
   "cell_type": "code",
   "execution_count": 7,
   "id": "b85cafbe",
   "metadata": {},
   "outputs": [
    {
     "data": {
      "text/plain": [
       "RandomForestClassifier(class_weight={0: 0.9, 1: 0.1})"
      ]
     },
     "execution_count": 7,
     "metadata": {},
     "output_type": "execute_result"
    }
   ],
   "source": [
    "#가중치를 만들자 (1. 직접설정)\n",
    "weights= {0:0.9, 1:0.1}\n",
    "RandomForestClassifier(class_weight= weights)"
   ]
  },
  {
   "cell_type": "code",
   "execution_count": 30,
   "id": "09771830",
   "metadata": {},
   "outputs": [
    {
     "data": {
      "text/plain": [
       "RandomForestClassifier(class_weight='balanced')"
      ]
     },
     "execution_count": 30,
     "metadata": {},
     "output_type": "execute_result"
    }
   ],
   "source": [
    "#가중치를 만들자 (2. balanced를 이용해 빈도가 낮은 클래스에 많은 가중치를 줘서 클래스 간 불균형을 해소하자.-> 모델의 예측력을 높이고 /overfitting 해소)\n",
    "\n",
    "RandomForestClassifier(class_weight= 'balanced')"
   ]
  },
  {
   "cell_type": "code",
   "execution_count": 44,
   "id": "dd63a850",
   "metadata": {},
   "outputs": [],
   "source": [
    "# 각각 target이 0인 인덱스들, target이 1인 샘플들의 인덱스들이 담겨있다.\n",
    "\n",
    "i_class0= np.where(target==0)[0]\n",
    "i_class1= np.where(target==1)[0] # [0]을 안하면 튜플로 묶여있어서 [0]으로 array꼴로 나오게 해준다."
   ]
  },
  {
   "cell_type": "code",
   "execution_count": 45,
   "id": "495dc0cd",
   "metadata": {},
   "outputs": [],
   "source": [
    "n_class0=len(i_class0)\n",
    "n_class1=len(i_class1)"
   ]
  },
  {
   "cell_type": "code",
   "execution_count": 47,
   "id": "3a31af6f",
   "metadata": {},
   "outputs": [
    {
     "data": {
      "text/plain": [
       "array([59, 46, 12, 27, 10, 91, 98, 26, 96, 70], dtype=int64)"
      ]
     },
     "execution_count": 47,
     "metadata": {},
     "output_type": "execute_result"
    }
   ],
   "source": [
    "# 클래스 0 의 샘플만큼 클래스 1에서 중복을 허용하지 않고 랜덤하게 샘플을 뽑는다.\n",
    "# 다운 샘플링( 다수 클래스에서 소수 클래스의 개수 만큼만 뽑는다.)\n",
    "# replace 가 true이면 복원추출이 되고, false이면 뽑힌 것은 다시 뽑히지 않는다.\n",
    "\n",
    "i_class1_downsampled = np.random.choice(i_class1, size= n_class0, replace=False )\n",
    "i_class1_downsampled"
   ]
  },
  {
   "cell_type": "code",
   "execution_count": 49,
   "id": "f09b6af2",
   "metadata": {},
   "outputs": [
    {
     "data": {
      "text/plain": [
       "array([0, 0, 0, 0, 0, 0, 0, 0, 0, 0, 1, 1, 1, 1, 1, 1, 1, 1, 1, 1])"
      ]
     },
     "execution_count": 49,
     "metadata": {},
     "output_type": "execute_result"
    }
   ],
   "source": [
    "np.hstack((target[i_class0], target[i_class1_downsampled]))"
   ]
  },
  {
   "cell_type": "code",
   "execution_count": 51,
   "id": "fd9efdcb",
   "metadata": {},
   "outputs": [
    {
     "data": {
      "text/plain": [
       "array([[5. , 3.5, 1.3, 0.3],\n",
       "       [4.5, 2.3, 1.3, 0.3],\n",
       "       [4.4, 3.2, 1.3, 0.2],\n",
       "       [5. , 3.5, 1.6, 0.6],\n",
       "       [5.1, 3.8, 1.9, 0.4]])"
      ]
     },
     "execution_count": 51,
     "metadata": {},
     "output_type": "execute_result"
    }
   ],
   "source": [
    "np.vstack((features[i_class0,:], features[i_class1_downsampled,:]))[0:5]"
   ]
  },
  {
   "cell_type": "markdown",
   "id": "1bd6a49d",
   "metadata": {},
   "source": [
    "## 불균형한 클래스 다루는 법"
   ]
  },
  {
   "cell_type": "markdown",
   "id": "1939f3c9",
   "metadata": {},
   "source": [
    "1. 소수 클래스의 샘플을 많이 모으기 (가장 좋지만 가장 힘듦)\n",
    "2. 불균형한 클래스에 잘 맞는 모델 평가 지표 (오차행렬, 정밀도, 재현율, F1점수, ROC곡선)\n",
    "3. 클래스 가중치 매개변수\n",
    "4. 다운샘플링 업샘플링"
   ]
  },
  {
   "cell_type": "code",
   "execution_count": null,
   "id": "d6bac9d1",
   "metadata": {},
   "outputs": [],
   "source": []
  }
 ],
 "metadata": {
  "kernelspec": {
   "display_name": "Python 3 (ipykernel)",
   "language": "python",
   "name": "python3"
  },
  "language_info": {
   "codemirror_mode": {
    "name": "ipython",
    "version": 3
   },
   "file_extension": ".py",
   "mimetype": "text/x-python",
   "name": "python",
   "nbconvert_exporter": "python",
   "pygments_lexer": "ipython3",
   "version": "3.9.7"
  }
 },
 "nbformat": 4,
 "nbformat_minor": 5
}
