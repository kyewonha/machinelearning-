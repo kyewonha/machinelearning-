{
 "cells": [
  {
   "cell_type": "markdown",
   "id": "bb53e2de",
   "metadata": {},
   "source": [
    "## np.meshgrid 에 대한 이해"
   ]
  },
  {
   "cell_type": "code",
   "execution_count": 3,
   "id": "ebd98be5",
   "metadata": {},
   "outputs": [],
   "source": [
    "import numpy as np"
   ]
  },
  {
   "cell_type": "code",
   "execution_count": 4,
   "id": "af2fe8de",
   "metadata": {},
   "outputs": [],
   "source": [
    "x= np.arange(3)\n",
    "y= np.arange(4)"
   ]
  },
  {
   "cell_type": "code",
   "execution_count": 5,
   "id": "60ffc82b",
   "metadata": {},
   "outputs": [
    {
     "data": {
      "text/plain": [
       "array([[0, 1, 2],\n",
       "       [0, 1, 2],\n",
       "       [0, 1, 2],\n",
       "       [0, 1, 2]])"
      ]
     },
     "execution_count": 5,
     "metadata": {},
     "output_type": "execute_result"
    }
   ],
   "source": [
    "# 앞에 오는 x_는  x를 수직확장\n",
    "x_, y_ = np.meshgrid(x,y)\n",
    "x_"
   ]
  },
  {
   "cell_type": "code",
   "execution_count": 6,
   "id": "8785d394",
   "metadata": {},
   "outputs": [
    {
     "data": {
      "text/plain": [
       "(4, 3)"
      ]
     },
     "execution_count": 6,
     "metadata": {},
     "output_type": "execute_result"
    }
   ],
   "source": [
    "x_.shape"
   ]
  },
  {
   "cell_type": "code",
   "execution_count": 7,
   "id": "16427967",
   "metadata": {},
   "outputs": [
    {
     "data": {
      "text/plain": [
       "array([[0, 0, 0],\n",
       "       [1, 1, 1],\n",
       "       [2, 2, 2],\n",
       "       [3, 3, 3]])"
      ]
     },
     "execution_count": 7,
     "metadata": {},
     "output_type": "execute_result"
    }
   ],
   "source": [
    "#뒤에 오는 y_는  y를 수평 확장\n",
    "y_"
   ]
  },
  {
   "cell_type": "code",
   "execution_count": 8,
   "id": "f9f42c27",
   "metadata": {},
   "outputs": [
    {
     "name": "stdout",
     "output_type": "stream",
     "text": [
      "['sepal length (cm)', 'sepal width (cm)']\n",
      "[0 1 2]\n",
      "['setosa' 'versicolor' 'virginica']\n"
     ]
    }
   ],
   "source": [
    "import numpy as np\n",
    "import matplotlib.pyplot as plt\n",
    "from sklearn.linear_model import LogisticRegression\n",
    "from sklearn.datasets import load_iris\n",
    "\n",
    "# load the iris dataset\n",
    "iris = load_iris()\n",
    "\n",
    "# select the first two features (sepal length and sepal width)\n",
    "X = iris.data[:, :2]\n",
    "print(iris.feature_names[:2])\n",
    "y = iris.target\n",
    "print(np.unique(y))\n",
    "print(iris.target_names)\n"
   ]
  },
  {
   "cell_type": "markdown",
   "id": "d977e2a6",
   "metadata": {},
   "source": [
    "### logisticRegression은 분류 모델이다.\n",
    "#### 그래서 fit 할 때 입력변수는 X,y 둘다 제공해야함. 타겟까지 학습을 시켜야 얘가 나중에 분류를 하니까"
   ]
  },
  {
   "cell_type": "code",
   "execution_count": 9,
   "id": "9985bfc1",
   "metadata": {},
   "outputs": [],
   "source": [
    "# fit a logistic regression model to the data\n",
    "#분류기 생성\n",
    "# target까지 학습을 시켜야 이따 분류기가 분류를 잘한다.\n",
    "\n",
    "clf = LogisticRegression(random_state=0).fit(X, y)\n",
    "\n",
    "\n"
   ]
  },
  {
   "cell_type": "markdown",
   "id": "dcb2a0a9",
   "metadata": {},
   "source": [
    "### xx는 np.arange(x_min, x_max, h)를  np.arange(y_min, y_max,h)만큼 수직확장"
   ]
  },
  {
   "cell_type": "code",
   "execution_count": 25,
   "id": "6aafbc17",
   "metadata": {},
   "outputs": [],
   "source": [
    "# define a meshgrid to plot the decision boundary\n",
    "# h는 meshgrid 격자선 만들 때 선 간격 0.02 , 이것보다 큰 값을 제공하면 뒤에 matplotlib로 그릴 때 삐뚤삐뚤하게 그려진다.\n",
    "# 최소값에 -0.5 최대값에 +0.5를 (버퍼를 넣어서) 그림의 중앙을 맞춘다.\n",
    "h = 0.02 \n",
    "x_min, x_max = X[:, 0].min() -0.5 , X[:, 0].max() +0.5\n",
    "y_min, y_max = X[:, 1].min() -0.5, X[:, 1].max()+0.5 \n",
    "\n",
    "## xx는 2차원 배열의 x좌표를 포함한 (171, 231)의 행렬 yy는 2차원 배열의 y좌표를 포함한 (171,231 )의 행렬\n",
    "# np.meshgrid / np.c_[xx.ravel(), yy.ravel()]은 세트\n",
    "xx, yy = np.meshgrid(np.arange(x_min, x_max, h),\n",
    "                     np.arange(y_min, y_max, h))"
   ]
  },
  {
   "cell_type": "markdown",
   "id": "fe9b33d1",
   "metadata": {},
   "source": [
    "np.c_ 예시"
   ]
  },
  {
   "cell_type": "code",
   "execution_count": 24,
   "id": "d9c58432",
   "metadata": {},
   "outputs": [
    {
     "data": {
      "text/plain": [
       "array([[1, 4],\n",
       "       [2, 5],\n",
       "       [3, 6]])"
      ]
     },
     "execution_count": 24,
     "metadata": {},
     "output_type": "execute_result"
    }
   ],
   "source": [
    "np.c_[np.array([1,2,3]), np.array([4,5,6])]"
   ]
  },
  {
   "cell_type": "code",
   "execution_count": 12,
   "id": "504b1cf7",
   "metadata": {},
   "outputs": [
    {
     "data": {
      "text/plain": [
       "array([[3.8 , 1.5 ],\n",
       "       [3.82, 1.5 ],\n",
       "       [3.84, 1.5 ],\n",
       "       ...,\n",
       "       [8.36, 4.9 ],\n",
       "       [8.38, 4.9 ],\n",
       "       [8.4 , 4.9 ]])"
      ]
     },
     "execution_count": 12,
     "metadata": {},
     "output_type": "execute_result"
    }
   ],
   "source": [
    "# 격자선 안에 들어갈 (x,y)좌표들 39501 개의 쌍의 좌표는 격자선을 구성한다.\n",
    "# 후에 각 좌표는 predict에 넣어서 예측값으로 이루어진 그림을 그리는데 쓰인다.\n",
    "# shape는 (39501,2)\n",
    "\n",
    "np.c_[xx.ravel(), yy.ravel()]\n"
   ]
  },
  {
   "cell_type": "code",
   "execution_count": 15,
   "id": "7f40cc96",
   "metadata": {},
   "outputs": [
    {
     "name": "stdout",
     "output_type": "stream",
     "text": [
      "(39501,)\n"
     ]
    }
   ],
   "source": [
    "Z = clf.predict(np.c_[xx.ravel(), yy.ravel()])\n",
    "print(Z.shape)"
   ]
  },
  {
   "cell_type": "code",
   "execution_count": 23,
   "id": "6d2f438c",
   "metadata": {},
   "outputs": [
    {
     "data": {
      "text/plain": [
       "(array([[3.8 , 3.82, 3.84, ..., 8.36, 8.38, 8.4 ],\n",
       "        [3.8 , 3.82, 3.84, ..., 8.36, 8.38, 8.4 ],\n",
       "        [3.8 , 3.82, 3.84, ..., 8.36, 8.38, 8.4 ],\n",
       "        ...,\n",
       "        [3.8 , 3.82, 3.84, ..., 8.36, 8.38, 8.4 ],\n",
       "        [3.8 , 3.82, 3.84, ..., 8.36, 8.38, 8.4 ],\n",
       "        [3.8 , 3.82, 3.84, ..., 8.36, 8.38, 8.4 ]]),\n",
       " array([[1.5 , 1.5 , 1.5 , ..., 1.5 , 1.5 , 1.5 ],\n",
       "        [1.52, 1.52, 1.52, ..., 1.52, 1.52, 1.52],\n",
       "        [1.54, 1.54, 1.54, ..., 1.54, 1.54, 1.54],\n",
       "        ...,\n",
       "        [4.86, 4.86, 4.86, ..., 4.86, 4.86, 4.86],\n",
       "        [4.88, 4.88, 4.88, ..., 4.88, 4.88, 4.88],\n",
       "        [4.9 , 4.9 , 4.9 , ..., 4.9 , 4.9 , 4.9 ]]),\n",
       " array([[1, 1, 1, ..., 2, 2, 2],\n",
       "        [1, 1, 1, ..., 2, 2, 2],\n",
       "        [1, 1, 1, ..., 2, 2, 2],\n",
       "        ...,\n",
       "        [0, 0, 0, ..., 2, 2, 2],\n",
       "        [0, 0, 0, ..., 2, 2, 2],\n",
       "        [0, 0, 0, ..., 2, 2, 2]]))"
      ]
     },
     "execution_count": 23,
     "metadata": {},
     "output_type": "execute_result"
    }
   ],
   "source": [
    "# xx와 yy와 Z랑 shape가 일치해야 후에 pcolormesh 에서 오류가 발생하지 않는다.\n",
    "Z = Z.reshape(xx.shape)\n",
    "(xx,yy,Z)\n"
   ]
  },
  {
   "cell_type": "markdown",
   "id": "736004e0",
   "metadata": {},
   "source": [
    "## pcolormesh로 구분선(decision boundary)를 그리자"
   ]
  },
  {
   "cell_type": "code",
   "execution_count": 26,
   "id": "8244b12e",
   "metadata": {},
   "outputs": [
    {
     "data": {
      "image/png": "[encoded data removed]",
      "text/plain": [
       "<Figure size 432x288 with 1 Axes>"
      ]
     },
     "metadata": {
      "needs_background": "light"
     },
     "output_type": "display_data"
    }
   ],
   "source": [
    "# predict의 결과로 나온건 1차원 벡터니 이를 XX의 크기로 reshape해준다.\n",
    "#각 격자선의 점마다 predict의 결과가 담긴 Z가 대응된다. 타겟 값에 대응하는 영역이 만들어진다.\n",
    "\n",
    "\n",
    "\n",
    "# plot the decision boundary and the data points\n",
    "plt.figure(figsize=(6, 4))\n",
    "plt.pcolormesh(xx, yy, Z, cmap=plt.cm.Pastel1)\n",
    "plt.show()"
   ]
  },
  {
   "cell_type": "markdown",
   "id": "01fef4bb",
   "metadata": {},
   "source": [
    "## *  코드 분해하기\n",
    "\n",
    "###### figure로 그래프 그릴 크기 설정\n",
    "###### pcolormesh로 Z(예측값)을 담아 구분선 그림 그리기\n",
    "###### scatter로 실제 값(y)을 담아 scatterplot 그리기\n",
    "###### 각 x축,y축 이름 붙이고 최소 최대 범위 잡기\n",
    "######  칼라바를 만들어서 각 분류가 어떤 것인지 알게 하기 0,1,2에 대응하는게 뭔지 알거아냐\n",
    "######  마지막에 plt.show()로 보게 하기"
   ]
  },
  {
   "cell_type": "code",
   "execution_count": 29,
   "id": "9f6f22fc",
   "metadata": {},
   "outputs": [
    {
     "name": "stdout",
     "output_type": "stream",
     "text": [
      "setosa\n",
      "versicolor\n",
      "virginica\n"
     ]
    },
    {
     "name": "stderr",
     "output_type": "stream",
     "text": [
      "C:\\Users\\82109\\AppData\\Local\\Temp/ipykernel_2420/485308032.py:4: UserWarning: No data for colormapping provided via 'c'. Parameters 'cmap' will be ignored\n",
      "  plt.scatter(X[y==i, 0], X[y==i, 1], label=name, cmap=plt.cm.Pastel1)\n"
     ]
    },
    {
     "data": {
      "image/png": "[encoded data removed]",
      "text/plain": [
       "<Figure size 432x288 with 1 Axes>"
      ]
     },
     "metadata": {
      "needs_background": "light"
     },
     "output_type": "display_data"
    }
   ],
   "source": [
    "# 실제 데이터 이름 붙이고 점찍기 \n",
    "for i, name in enumerate(iris.target_names):\n",
    "    print(name)\n",
    "    plt.scatter(X[y==i, 0], X[y==i, 1], label=name, cmap=plt.cm.Pastel1)"
   ]
  },
  {
   "cell_type": "code",
   "execution_count": 22,
   "id": "68818ee4",
   "metadata": {},
   "outputs": [
    {
     "name": "stderr",
     "output_type": "stream",
     "text": [
      "C:\\Users\\82109\\AppData\\Local\\Temp/ipykernel_2420/2700406405.py:6: UserWarning: No data for colormapping provided via 'c'. Parameters 'cmap' will be ignored\n",
      "  plt.scatter(X[y==i, 0], X[y==i, 1], label=name, cmap=plt.cm.Pastel1)\n"
     ]
    },
    {
     "data": {
      "image/png": "[encoded data removed]",
      "text/plain": [
       "<Figure size 432x288 with 1 Axes>"
      ]
     },
     "metadata": {
      "needs_background": "light"
     },
     "output_type": "display_data"
    }
   ],
   "source": [
    "plt.figure(1, figsize=(6, 4))\n",
    "plt.pcolormesh(xx, yy, Z, cmap=plt.cm.Pastel1)\n",
    "\n",
    "# enumerate 함수를 지정해서 라벨에 이름을 달아준다.\n",
    "for i, name in enumerate(iris.target_names):\n",
    "    plt.scatter(X[y==i, 0], X[y==i, 1], label=name, cmap=plt.cm.Pastel1)\n",
    "\n",
    "#축 이름 설정    \n",
    "plt.xlabel('Sepal length')\n",
    "plt.ylabel('Sepal width')\n",
    "\n",
    "#축 범위 설정\n",
    "plt.xlim(xx.min(), xx.max())\n",
    "plt.ylim(yy.min(), yy.max())\n",
    "\n",
    "# 축에 눈금 매기기\n",
    "plt.xticks()\n",
    "plt.yticks()\n",
    "\n",
    "#위에 enumerate에서 달아준 라벨을 기준으로 범례를 만들어준다.\n",
    "plt.legend()\n",
    "\n",
    "\n",
    "plt.show()"
   ]
  },
  {
   "cell_type": "code",
   "execution_count": null,
   "id": "7c539684",
   "metadata": {},
   "outputs": [],
   "source": []
  },
  {
   "cell_type": "code",
   "execution_count": null,
   "id": "60b015bb",
   "metadata": {},
   "outputs": [],
   "source": []
  }
 ],
 "metadata": {
  "kernelspec": {
   "display_name": "Python 3 (ipykernel)",
   "language": "python",
   "name": "python3"
  },
  "language_info": {
   "codemirror_mode": {
    "name": "ipython",
    "version": 3
   },
   "file_extension": ".py",
   "mimetype": "text/x-python",
   "name": "python",
   "nbconvert_exporter": "python",
   "pygments_lexer": "ipython3",
   "version": "3.9.7"
  }
 },
 "nbformat": 4,
 "nbformat_minor": 5
}
