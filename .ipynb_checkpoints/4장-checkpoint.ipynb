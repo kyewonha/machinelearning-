{
 "cells": [
  {
   "cell_type": "code",
   "execution_count": 1,
   "id": "9a091427",
   "metadata": {},
   "outputs": [
    {
     "name": "stdout",
     "output_type": "stream",
     "text": [
      "Requirement already satisfied: sklearn in c:\\users\\82109\\anaconda3\\lib\\site-packages (0.0.post1)\n",
      "Note: you may need to restart the kernel to use updated packages.\n"
     ]
    },
    {
     "name": "stderr",
     "output_type": "stream",
     "text": [
      "WARNING: Ignoring invalid distribution -atplotlib (c:\\users\\82109\\anaconda3\\lib\\site-packages)\n",
      "WARNING: Ignoring invalid distribution -atplotlib (c:\\users\\82109\\anaconda3\\lib\\site-packages)\n",
      "WARNING: Ignoring invalid distribution -atplotlib (c:\\users\\82109\\anaconda3\\lib\\site-packages)\n",
      "WARNING: Ignoring invalid distribution -atplotlib (c:\\users\\82109\\anaconda3\\lib\\site-packages)\n",
      "WARNING: Ignoring invalid distribution -atplotlib (c:\\users\\82109\\anaconda3\\lib\\site-packages)\n",
      "WARNING: Ignoring invalid distribution -atplotlib (c:\\users\\82109\\anaconda3\\lib\\site-packages)\n"
     ]
    }
   ],
   "source": [
    "pip install sklearn\n",
    "pip install fancyimpute"
   ]
  },
  {
   "cell_type": "markdown",
   "id": "5dc0b2b4",
   "metadata": {},
   "source": [
    "## 특성 스케일 바꾸기"
   ]
  },
  {
   "cell_type": "markdown",
   "id": "dbad3144",
   "metadata": {},
   "source": [
    "### Minmaxscaler : 최소 최대 스케일링"
   ]
  },
  {
   "cell_type": "code",
   "execution_count": 4,
   "id": "d7c16755",
   "metadata": {},
   "outputs": [],
   "source": [
    "import numpy as np\n",
    "from sklearn import preprocessing"
   ]
  },
  {
   "cell_type": "code",
   "execution_count": 6,
   "id": "1ac80b25",
   "metadata": {},
   "outputs": [],
   "source": [
    "#스케일러 객체를 만든다"
   ]
  },
  {
   "cell_type": "code",
   "execution_count": 7,
   "id": "c6eeb036",
   "metadata": {},
   "outputs": [],
   "source": [
    "feature = np.array([[-500.5],[-100.1],[0],[100.1],[900.9]])\n",
    "minmax_scale = preprocessing.MinMaxScaler(feature_range=(0,1))"
   ]
  },
  {
   "cell_type": "code",
   "execution_count": 12,
   "id": "f3426488",
   "metadata": {},
   "outputs": [],
   "source": [
    "scaled_feature = minmax_scale.fit_transform(feature) #fit 과 transform 을 한꺼번에 해서 훈련/ 조정을 한 번에"
   ]
  },
  {
   "cell_type": "code",
   "execution_count": 13,
   "id": "095fe48a",
   "metadata": {},
   "outputs": [],
   "source": [
    "#0~1사이의 결과 반환"
   ]
  },
  {
   "cell_type": "code",
   "execution_count": 14,
   "id": "12826c9d",
   "metadata": {},
   "outputs": [
    {
     "data": {
      "text/plain": [
       "array([[0.        ],\n",
       "       [0.28571429],\n",
       "       [0.35714286],\n",
       "       [0.42857143],\n",
       "       [1.        ]])"
      ]
     },
     "execution_count": 14,
     "metadata": {},
     "output_type": "execute_result"
    }
   ],
   "source": [
    "scaled_feature"
   ]
  },
  {
   "cell_type": "markdown",
   "id": "489a2717",
   "metadata": {},
   "source": [
    "### Robustscaler : 이상치가 많을 때 스케일링. 데이터에서 중간값을 빼고 IQR(75%의값 - 25%의값)로 나눈다."
   ]
  },
  {
   "cell_type": "code",
   "execution_count": 17,
   "id": "a102b5ea",
   "metadata": {},
   "outputs": [],
   "source": [
    "x= np.array([[-1000.1],[-200.2],[500.5],[600.6],[9000.9]])"
   ]
  },
  {
   "cell_type": "code",
   "execution_count": 18,
   "id": "3a01ef6e",
   "metadata": {},
   "outputs": [
    {
     "data": {
      "text/plain": [
       "array([[-1.87387612],\n",
       "       [-0.875     ],\n",
       "       [ 0.        ],\n",
       "       [ 0.125     ],\n",
       "       [10.61488511]])"
      ]
     },
     "execution_count": 18,
     "metadata": {},
     "output_type": "execute_result"
    }
   ],
   "source": [
    "robust_scaler = preprocessing.RobustScaler()\n",
    "robust_scaler.fit_transform(x)"
   ]
  },
  {
   "cell_type": "markdown",
   "id": "f27bda12",
   "metadata": {},
   "source": [
    "### 정규화하기 : 평균이 0 표준편차가 1로 맞춘다.\n"
   ]
  },
  {
   "cell_type": "code",
   "execution_count": 20,
   "id": "df47e661",
   "metadata": {},
   "outputs": [],
   "source": [
    "from sklearn.preprocessing import Normalizer"
   ]
  },
  {
   "cell_type": "code",
   "execution_count": 21,
   "id": "9b3ce8ed",
   "metadata": {},
   "outputs": [],
   "source": [
    "features = np.array([[0.5, 0.5],\n",
    "                    [1.1,3.4],\n",
    "                    [1.5,20.2],\n",
    "                    [1.63,34.4],\n",
    "                    [10.9, 3.3]])"
   ]
  },
  {
   "cell_type": "code",
   "execution_count": 22,
   "id": "f6db892c",
   "metadata": {},
   "outputs": [
    {
     "data": {
      "text/plain": [
       "(5, 2)"
      ]
     },
     "execution_count": 22,
     "metadata": {},
     "output_type": "execute_result"
    }
   ],
   "source": [
    "features.shape"
   ]
  },
  {
   "cell_type": "code",
   "execution_count": 25,
   "id": "df321c2e",
   "metadata": {},
   "outputs": [],
   "source": [
    "# 유클리드 노름이 기본값\n",
    "normalizer = Normalizer(norm =\"l2\")"
   ]
  },
  {
   "cell_type": "code",
   "execution_count": 26,
   "id": "5cf15e3a",
   "metadata": {},
   "outputs": [
    {
     "data": {
      "text/plain": [
       "array([[0.70710678, 0.70710678],\n",
       "       [0.30782029, 0.95144452],\n",
       "       [0.07405353, 0.99725427],\n",
       "       [0.04733062, 0.99887928],\n",
       "       [0.95709822, 0.28976368]])"
      ]
     },
     "execution_count": 26,
     "metadata": {},
     "output_type": "execute_result"
    }
   ],
   "source": [
    "normalizer.transform(features)"
   ]
  },
  {
   "cell_type": "markdown",
   "id": "7f494966",
   "metadata": {},
   "source": [
    "## 다항 특성과 교차항 특성 생성하기"
   ]
  },
  {
   "cell_type": "markdown",
   "id": "fadb5ab5",
   "metadata": {},
   "source": [
    "###  - polynomial 특성과 interaction 특성을 만들고 싶습니다."
   ]
  },
  {
   "cell_type": "markdown",
   "id": "b7753f51",
   "metadata": {},
   "source": [
    "###### 다항 특성을 쓰는 경우 : 특성과 타깃 사이 비선형 관계가 있을 때"
   ]
  },
  {
   "cell_type": "code",
   "execution_count": 27,
   "id": "a43cb9f4",
   "metadata": {},
   "outputs": [],
   "source": [
    "from sklearn.preprocessing import PolynomialFeatures"
   ]
  },
  {
   "cell_type": "code",
   "execution_count": 28,
   "id": "ff993a0e",
   "metadata": {},
   "outputs": [],
   "source": [
    "features = np.array([[2,3],\n",
    "                    [2,3],\n",
    "                    [2,3]])"
   ]
  },
  {
   "cell_type": "code",
   "execution_count": 29,
   "id": "5a3509ea",
   "metadata": {},
   "outputs": [],
   "source": [
    "polynomial_interaction = PolynomialFeatures(degree=2, include_bias = False)"
   ]
  },
  {
   "cell_type": "code",
   "execution_count": 30,
   "id": "eb6ee7bf",
   "metadata": {},
   "outputs": [
    {
     "data": {
      "text/plain": [
       "array([[2., 3., 4., 6., 9.],\n",
       "       [2., 3., 4., 6., 9.],\n",
       "       [2., 3., 4., 6., 9.]])"
      ]
     },
     "execution_count": 30,
     "metadata": {},
     "output_type": "execute_result"
    }
   ],
   "source": [
    "polynomial_interaction.fit_transform(features)"
   ]
  },
  {
   "cell_type": "code",
   "execution_count": 35,
   "id": "4e293f21",
   "metadata": {},
   "outputs": [
    {
     "data": {
      "text/plain": [
       "array([[1., 2., 3., 6.],\n",
       "       [1., 2., 3., 6.],\n",
       "       [1., 2., 3., 6.]])"
      ]
     },
     "execution_count": 35,
     "metadata": {},
     "output_type": "execute_result"
    }
   ],
   "source": [
    "interaction = PolynomialFeatures (degree=3, interaction_only=True, include_bias =True) \n",
    "#include_bias 는 1이 포함, degree는 3차 , interaction_only는 교차항만 , degree 는 최대 차수를 볼래\n",
    "interaction.fit_transform(features)"
   ]
  },
  {
   "cell_type": "markdown",
   "id": "a9c76d50",
   "metadata": {},
   "source": [
    "## 특성 변환하기"
   ]
  },
  {
   "cell_type": "markdown",
   "id": "eb2d6c17",
   "metadata": {},
   "source": [
    "### 하나 이상의 특성에 사용자 정의 변환을 적용하고 싶습니다."
   ]
  },
  {
   "cell_type": "code",
   "execution_count": 36,
   "id": "0966b63d",
   "metadata": {},
   "outputs": [],
   "source": [
    "from sklearn.preprocessing import FunctionTransformer"
   ]
  },
  {
   "cell_type": "code",
   "execution_count": 39,
   "id": "83984976",
   "metadata": {},
   "outputs": [],
   "source": [
    "features = np.array([[2,3],\n",
    "                   [2,3],\n",
    "                   [2,3]])"
   ]
  },
  {
   "cell_type": "code",
   "execution_count": 40,
   "id": "b449b0f5",
   "metadata": {},
   "outputs": [
    {
     "data": {
      "text/plain": [
       "(3, 2)"
      ]
     },
     "execution_count": 40,
     "metadata": {},
     "output_type": "execute_result"
    }
   ],
   "source": [
    "features.shape"
   ]
  },
  {
   "cell_type": "code",
   "execution_count": 41,
   "id": "e9e78465",
   "metadata": {},
   "outputs": [],
   "source": [
    "def add_ten(x):\n",
    "    return x +10"
   ]
  },
  {
   "cell_type": "code",
   "execution_count": 42,
   "id": "3c2cdd58",
   "metadata": {},
   "outputs": [],
   "source": [
    "ten_transformer = FunctionTransformer(add_ten)"
   ]
  },
  {
   "cell_type": "code",
   "execution_count": 43,
   "id": "5120d427",
   "metadata": {},
   "outputs": [
    {
     "data": {
      "text/plain": [
       "array([[12, 13],\n",
       "       [12, 13],\n",
       "       [12, 13]])"
      ]
     },
     "execution_count": 43,
     "metadata": {},
     "output_type": "execute_result"
    }
   ],
   "source": [
    "ten_transformer.transform(features)"
   ]
  },
  {
   "cell_type": "markdown",
   "id": "75555989",
   "metadata": {},
   "source": [
    "#### 열마다 다른 사용자 정의 변환을 사용하고 싶다."
   ]
  },
  {
   "cell_type": "code",
   "execution_count": 46,
   "id": "9e18cf45",
   "metadata": {},
   "outputs": [],
   "source": [
    "from sklearn.compose import ColumnTransformer\n",
    "import pandas as pd"
   ]
  },
  {
   "cell_type": "code",
   "execution_count": 51,
   "id": "7390f968",
   "metadata": {},
   "outputs": [],
   "source": [
    "#각열별로 사용자 정의 변환을 하려면 데이터프레임에 열이름을 지정해줘야한다.\n",
    "\n",
    "df= pd.DataFrame(features, columns=['feature_1','feature_2'])\n"
   ]
  },
  {
   "cell_type": "code",
   "execution_count": 48,
   "id": "7680face",
   "metadata": {},
   "outputs": [],
   "source": [
    "def add_hundred(x):\n",
    "    return x +100"
   ]
  },
  {
   "cell_type": "code",
   "execution_count": 49,
   "id": "88002919",
   "metadata": {},
   "outputs": [],
   "source": [
    "ct= ColumnTransformer([(\"add_ten\",FunctionTransformer(add_ten, validate=True),['feature_1']),\n",
    "                      (\"add_hundred\", FunctionTransformer(add_hundred, validate=True),['feature_2'])])"
   ]
  },
  {
   "cell_type": "code",
   "execution_count": 50,
   "id": "954c6aeb",
   "metadata": {},
   "outputs": [
    {
     "data": {
      "text/plain": [
       "array([[ 12, 103],\n",
       "       [ 12, 103],\n",
       "       [ 12, 103]])"
      ]
     },
     "execution_count": 50,
     "metadata": {},
     "output_type": "execute_result"
    }
   ],
   "source": [
    "ct.fit_transform(df)"
   ]
  },
  {
   "cell_type": "markdown",
   "id": "3f99b6c2",
   "metadata": {},
   "source": [
    "## 이상치 감지하기"
   ]
  },
  {
   "cell_type": "code",
   "execution_count": 52,
   "id": "9bd390a1",
   "metadata": {},
   "outputs": [],
   "source": [
    "# 타원 안의 샘플을 레이블 1로 구분하고, 타원 밖의 샘플을 레이블 -1 로 구분한다."
   ]
  },
  {
   "cell_type": "code",
   "execution_count": 64,
   "id": "3e792374",
   "metadata": {},
   "outputs": [],
   "source": [
    "from sklearn.covariance import EllipticEnvelope # 타원 밖의 이상치 탐지하기\n",
    "from sklearn.datasets import make_blobs # 모의 데이터 만들기"
   ]
  },
  {
   "cell_type": "code",
   "execution_count": 65,
   "id": "50c715b0",
   "metadata": {},
   "outputs": [],
   "source": [
    "# features는 입력 변수 입력 변수 features(열이 2개), 얼룩의 중심은 하나\n",
    "features, _ = make_blobs(n_samples=10, n_features =2, centers=1, random_state=1) \n"
   ]
  },
  {
   "cell_type": "code",
   "execution_count": 66,
   "id": "0443c2ec",
   "metadata": {},
   "outputs": [],
   "source": [
    "#이상치 만들기\n",
    "\n",
    "features[0,0]=10000\n",
    "features[0,1]=10000"
   ]
  },
  {
   "cell_type": "code",
   "execution_count": 67,
   "id": "90aaa0fd",
   "metadata": {},
   "outputs": [
    {
     "data": {
      "text/plain": [
       "array([-1,  1,  1,  1,  1,  1,  1,  1,  1,  1])"
      ]
     },
     "execution_count": 67,
     "metadata": {},
     "output_type": "execute_result"
    }
   ],
   "source": [
    "#contamination=0.1 10%의 이상치 비율\n",
    "outlier_detector = EllipticEnvelope(contamination=.1)\n",
    "outlier_detector.fit(features)\n",
    "outlier_detector.predict(features)"
   ]
  },
  {
   "cell_type": "code",
   "execution_count": 70,
   "id": "82d07507",
   "metadata": {},
   "outputs": [],
   "source": [
    "feature = features[:,0]"
   ]
  },
  {
   "cell_type": "code",
   "execution_count": 71,
   "id": "c0544864",
   "metadata": {},
   "outputs": [],
   "source": [
    "# 이상치의 인덱스를 반환하는 함수\n",
    "\n",
    "def indicies_of_outliers(x):\n",
    "    q1, q3 = np.percentile(x,[25,75])\n",
    "    iqr= q3- q1\n",
    "    lower_bound = q1 - (iqr * 1.5)\n",
    "    upper_bound = q3 + (iqr * 1.5)\n",
    "    return np.where((x> upper_bound)| (x<lower_bound))\n"
   ]
  },
  {
   "cell_type": "code",
   "execution_count": 73,
   "id": "29f9c627",
   "metadata": {},
   "outputs": [
    {
     "name": "stdout",
     "output_type": "stream",
     "text": [
      "(array([0], dtype=int64),)\n"
     ]
    }
   ],
   "source": [
    "print(indicies_of_outliers(feature))"
   ]
  },
  {
   "cell_type": "markdown",
   "id": "ff596db6",
   "metadata": {},
   "source": [
    "## 이상치 다루기 "
   ]
  },
  {
   "cell_type": "code",
   "execution_count": 74,
   "id": "88744dc3",
   "metadata": {},
   "outputs": [],
   "source": [
    "import pandas as pd"
   ]
  },
  {
   "cell_type": "code",
   "execution_count": 75,
   "id": "f183d083",
   "metadata": {},
   "outputs": [],
   "source": [
    "houses = pd.DataFrame()\n",
    "\n",
    "# 네번째 데이터를 이상치로 만든다\n",
    "\n",
    "houses['price']=[534433,392333,293222,4322032]\n",
    "houses['bathrooms']=[2,3.5,2,116]\n",
    "houses['square_feet']=[1500,2500,1500,48000]"
   ]
  },
  {
   "cell_type": "markdown",
   "id": "f8c0062f",
   "metadata": {},
   "source": [
    "1. 이상치 삭제"
   ]
  },
  {
   "cell_type": "code",
   "execution_count": 77,
   "id": "bd0a41cb",
   "metadata": {},
   "outputs": [
    {
     "data": {
      "text/html": [
       "<div>\n",
       "<style scoped>\n",
       "    .dataframe tbody tr th:only-of-type {\n",
       "        vertical-align: middle;\n",
       "    }\n",
       "\n",
       "    .dataframe tbody tr th {\n",
       "        vertical-align: top;\n",
       "    }\n",
       "\n",
       "    .dataframe thead th {\n",
       "        text-align: right;\n",
       "    }\n",
       "</style>\n",
       "<table border=\"1\" class=\"dataframe\">\n",
       "  <thead>\n",
       "    <tr style=\"text-align: right;\">\n",
       "      <th></th>\n",
       "      <th>price</th>\n",
       "      <th>bathrooms</th>\n",
       "      <th>square_feet</th>\n",
       "    </tr>\n",
       "  </thead>\n",
       "  <tbody>\n",
       "    <tr>\n",
       "      <th>0</th>\n",
       "      <td>534433</td>\n",
       "      <td>2.0</td>\n",
       "      <td>1500</td>\n",
       "    </tr>\n",
       "    <tr>\n",
       "      <th>1</th>\n",
       "      <td>392333</td>\n",
       "      <td>3.5</td>\n",
       "      <td>2500</td>\n",
       "    </tr>\n",
       "    <tr>\n",
       "      <th>2</th>\n",
       "      <td>293222</td>\n",
       "      <td>2.0</td>\n",
       "      <td>1500</td>\n",
       "    </tr>\n",
       "  </tbody>\n",
       "</table>\n",
       "</div>"
      ],
      "text/plain": [
       "    price  bathrooms  square_feet\n",
       "0  534433        2.0         1500\n",
       "1  392333        3.5         2500\n",
       "2  293222        2.0         1500"
      ]
     },
     "execution_count": 77,
     "metadata": {},
     "output_type": "execute_result"
    }
   ],
   "source": [
    "houses[houses['bathrooms']<20]"
   ]
  },
  {
   "cell_type": "markdown",
   "id": "8c72ac38",
   "metadata": {},
   "source": [
    "2. 이상치 열 추가"
   ]
  },
  {
   "cell_type": "code",
   "execution_count": 80,
   "id": "2e9d0d21",
   "metadata": {},
   "outputs": [
    {
     "data": {
      "text/html": [
       "<div>\n",
       "<style scoped>\n",
       "    .dataframe tbody tr th:only-of-type {\n",
       "        vertical-align: middle;\n",
       "    }\n",
       "\n",
       "    .dataframe tbody tr th {\n",
       "        vertical-align: top;\n",
       "    }\n",
       "\n",
       "    .dataframe thead th {\n",
       "        text-align: right;\n",
       "    }\n",
       "</style>\n",
       "<table border=\"1\" class=\"dataframe\">\n",
       "  <thead>\n",
       "    <tr style=\"text-align: right;\">\n",
       "      <th></th>\n",
       "      <th>price</th>\n",
       "      <th>bathrooms</th>\n",
       "      <th>square_feet</th>\n",
       "      <th>outlier</th>\n",
       "    </tr>\n",
       "  </thead>\n",
       "  <tbody>\n",
       "    <tr>\n",
       "      <th>0</th>\n",
       "      <td>534433</td>\n",
       "      <td>2.0</td>\n",
       "      <td>1500</td>\n",
       "      <td>0</td>\n",
       "    </tr>\n",
       "    <tr>\n",
       "      <th>1</th>\n",
       "      <td>392333</td>\n",
       "      <td>3.5</td>\n",
       "      <td>2500</td>\n",
       "      <td>0</td>\n",
       "    </tr>\n",
       "    <tr>\n",
       "      <th>2</th>\n",
       "      <td>293222</td>\n",
       "      <td>2.0</td>\n",
       "      <td>1500</td>\n",
       "      <td>0</td>\n",
       "    </tr>\n",
       "    <tr>\n",
       "      <th>3</th>\n",
       "      <td>4322032</td>\n",
       "      <td>116.0</td>\n",
       "      <td>48000</td>\n",
       "      <td>1</td>\n",
       "    </tr>\n",
       "  </tbody>\n",
       "</table>\n",
       "</div>"
      ],
      "text/plain": [
       "     price  bathrooms  square_feet  outlier\n",
       "0   534433        2.0         1500        0\n",
       "1   392333        3.5         2500        0\n",
       "2   293222        2.0         1500        0\n",
       "3  4322032      116.0        48000        1"
      ]
     },
     "execution_count": 80,
     "metadata": {},
     "output_type": "execute_result"
    }
   ],
   "source": [
    "houses['outlier']= np.where(houses['bathrooms']<20,0,1)\n",
    "houses"
   ]
  },
  {
   "cell_type": "markdown",
   "id": "6fc6aa57",
   "metadata": {},
   "source": [
    "3. 이상치 영향이 줄어들도록 특성을 변환한다. (log transformation)"
   ]
  },
  {
   "cell_type": "code",
   "execution_count": 83,
   "id": "340f434a",
   "metadata": {},
   "outputs": [
    {
     "data": {
      "text/html": [
       "<div>\n",
       "<style scoped>\n",
       "    .dataframe tbody tr th:only-of-type {\n",
       "        vertical-align: middle;\n",
       "    }\n",
       "\n",
       "    .dataframe tbody tr th {\n",
       "        vertical-align: top;\n",
       "    }\n",
       "\n",
       "    .dataframe thead th {\n",
       "        text-align: right;\n",
       "    }\n",
       "</style>\n",
       "<table border=\"1\" class=\"dataframe\">\n",
       "  <thead>\n",
       "    <tr style=\"text-align: right;\">\n",
       "      <th></th>\n",
       "      <th>price</th>\n",
       "      <th>bathrooms</th>\n",
       "      <th>square_feet</th>\n",
       "      <th>outlier</th>\n",
       "      <th>log_of_square_feet</th>\n",
       "    </tr>\n",
       "  </thead>\n",
       "  <tbody>\n",
       "    <tr>\n",
       "      <th>0</th>\n",
       "      <td>534433</td>\n",
       "      <td>2.0</td>\n",
       "      <td>1500</td>\n",
       "      <td>0</td>\n",
       "      <td>7.313220</td>\n",
       "    </tr>\n",
       "    <tr>\n",
       "      <th>1</th>\n",
       "      <td>392333</td>\n",
       "      <td>3.5</td>\n",
       "      <td>2500</td>\n",
       "      <td>0</td>\n",
       "      <td>7.824046</td>\n",
       "    </tr>\n",
       "    <tr>\n",
       "      <th>2</th>\n",
       "      <td>293222</td>\n",
       "      <td>2.0</td>\n",
       "      <td>1500</td>\n",
       "      <td>0</td>\n",
       "      <td>7.313220</td>\n",
       "    </tr>\n",
       "    <tr>\n",
       "      <th>3</th>\n",
       "      <td>4322032</td>\n",
       "      <td>116.0</td>\n",
       "      <td>48000</td>\n",
       "      <td>1</td>\n",
       "      <td>10.778956</td>\n",
       "    </tr>\n",
       "  </tbody>\n",
       "</table>\n",
       "</div>"
      ],
      "text/plain": [
       "     price  bathrooms  square_feet  outlier  log_of_square_feet\n",
       "0   534433        2.0         1500        0            7.313220\n",
       "1   392333        3.5         2500        0            7.824046\n",
       "2   293222        2.0         1500        0            7.313220\n",
       "3  4322032      116.0        48000        1           10.778956"
      ]
     },
     "execution_count": 83,
     "metadata": {},
     "output_type": "execute_result"
    }
   ],
   "source": [
    "houses['log_of_square_feet']=[np.log(x) for x in houses['square_feet']]\n",
    "houses"
   ]
  },
  {
   "cell_type": "markdown",
   "id": "99ac327a",
   "metadata": {},
   "source": [
    "## 특성 이산화하기 (Binarizer, digitize 수치 특성을 범주형처럼 다루기)"
   ]
  },
  {
   "cell_type": "markdown",
   "id": "048aaa89",
   "metadata": {},
   "source": [
    "chatgpt가 말하는 수치형 -> 범주형 변수로 변환의 이점 \n",
    "1. 비선형 관계 처리\n",
    "2. 노이즈 및 중복성 감소 ( 18세 이상, 50세 미만 등으로 범주를 나누면 데이터를 단순화할 수 있다.)"
   ]
  },
  {
   "cell_type": "code",
   "execution_count": 88,
   "id": "b8410d5a",
   "metadata": {},
   "outputs": [],
   "source": [
    "from sklearn.preprocessing import Binarizer "
   ]
  },
  {
   "cell_type": "code",
   "execution_count": 89,
   "id": "98ce04a3",
   "metadata": {},
   "outputs": [],
   "source": [
    "age= np.array([[6],[12],[20],[36],[65]])"
   ]
  },
  {
   "cell_type": "code",
   "execution_count": 90,
   "id": "773bfc9c",
   "metadata": {},
   "outputs": [
    {
     "name": "stderr",
     "output_type": "stream",
     "text": [
      "C:\\Users\\82109\\anaconda3\\lib\\site-packages\\sklearn\\utils\\validation.py:70: FutureWarning: Pass threshold=18 as keyword args. From version 1.0 (renaming of 0.25) passing these as positional arguments will result in an error\n",
      "  warnings.warn(f\"Pass {args_msg} as keyword args. From version \"\n"
     ]
    },
    {
     "data": {
      "text/plain": [
       "array([[0],\n",
       "       [0],\n",
       "       [1],\n",
       "       [1],\n",
       "       [1]])"
      ]
     },
     "execution_count": 90,
     "metadata": {},
     "output_type": "execute_result"
    }
   ],
   "source": [
    "binarizer =Binarizer(18)\n",
    "binarizer.fit_transform(age)"
   ]
  },
  {
   "cell_type": "code",
   "execution_count": 91,
   "id": "19723806",
   "metadata": {},
   "outputs": [
    {
     "data": {
      "text/plain": [
       "array([[0],\n",
       "       [0],\n",
       "       [1],\n",
       "       [2],\n",
       "       [3]], dtype=int64)"
      ]
     },
     "execution_count": 91,
     "metadata": {},
     "output_type": "execute_result"
    }
   ],
   "source": [
    "np.digitize(age, bins=[20,30,64])"
   ]
  },
  {
   "cell_type": "markdown",
   "id": "072eb02b",
   "metadata": {},
   "source": [
    "## 구간으로 나누는 또 다른 방법 KBinsDiscretizer"
   ]
  },
  {
   "cell_type": "code",
   "execution_count": 92,
   "id": "50b9f065",
   "metadata": {},
   "outputs": [],
   "source": [
    "from sklearn.preprocessing import KBinsDiscretizer"
   ]
  },
  {
   "cell_type": "code",
   "execution_count": 94,
   "id": "c05e1db5",
   "metadata": {},
   "outputs": [
    {
     "data": {
      "text/plain": [
       "array([[0.],\n",
       "       [1.],\n",
       "       [2.],\n",
       "       [3.],\n",
       "       [3.]])"
      ]
     },
     "execution_count": 94,
     "metadata": {},
     "output_type": "execute_result"
    }
   ],
   "source": [
    "# 네 개의 구간으로 나눈다.\n",
    "kb= KBinsDiscretizer(4, encode='ordinal', strategy='quantile')\n",
    "kb.fit_transform(age)"
   ]
  },
  {
   "cell_type": "code",
   "execution_count": 95,
   "id": "a7e40936",
   "metadata": {},
   "outputs": [
    {
     "data": {
      "text/plain": [
       "array([[1., 0., 0., 0.],\n",
       "       [0., 1., 0., 0.],\n",
       "       [0., 0., 1., 0.],\n",
       "       [0., 0., 0., 1.],\n",
       "       [0., 0., 0., 1.]])"
      ]
     },
     "execution_count": 95,
     "metadata": {},
     "output_type": "execute_result"
    }
   ],
   "source": [
    "kb= KBinsDiscretizer(4, encode='onehot-dense', strategy='quantile')\n",
    "kb.fit_transform(age)"
   ]
  },
  {
   "cell_type": "code",
   "execution_count": 96,
   "id": "0d9ac9cc",
   "metadata": {},
   "outputs": [
    {
     "data": {
      "text/plain": [
       "array([[1., 0., 0., 0.],\n",
       "       [1., 0., 0., 0.],\n",
       "       [1., 0., 0., 0.],\n",
       "       [0., 0., 1., 0.],\n",
       "       [0., 0., 0., 1.]])"
      ]
     },
     "execution_count": 96,
     "metadata": {},
     "output_type": "execute_result"
    }
   ],
   "source": [
    "kb= KBinsDiscretizer(4, encode='onehot-dense', strategy='uniform')\n",
    "kb.fit_transform(age)"
   ]
  },
  {
   "cell_type": "markdown",
   "id": "0fdcfc71",
   "metadata": {},
   "source": [
    "## 군집으로 샘플을 그룹으로 묶기(139페이지)"
   ]
  },
  {
   "cell_type": "code",
   "execution_count": 4,
   "id": "936f3459",
   "metadata": {},
   "outputs": [],
   "source": [
    "from sklearn.datasets import make_blobs\n",
    "from sklearn.cluster import KMeans\n",
    "import pandas as pd"
   ]
  },
  {
   "cell_type": "code",
   "execution_count": 5,
   "id": "881a8881",
   "metadata": {},
   "outputs": [],
   "source": [
    "features, _ = make_blobs(n_samples=50,\n",
    "                        n_features=2,\n",
    "                        centers=3,\n",
    "                        random_state=1)"
   ]
  },
  {
   "cell_type": "code",
   "execution_count": 6,
   "id": "2fb8c7b7",
   "metadata": {},
   "outputs": [
    {
     "data": {
      "text/plain": [
       "KMeans(n_clusters=3, random_state=0)"
      ]
     },
     "execution_count": 6,
     "metadata": {},
     "output_type": "execute_result"
    }
   ],
   "source": [
    "dataframe= pd.DataFrame(features, columns=['feature_1','feature_2'])\n",
    "clusterer= KMeans(3, random_state=0)\n",
    "clusterer.fit(features)"
   ]
  },
  {
   "cell_type": "code",
   "execution_count": 7,
   "id": "8a33603d",
   "metadata": {},
   "outputs": [],
   "source": [
    "dataframe['group']= clusterer.predict(features)"
   ]
  },
  {
   "cell_type": "code",
   "execution_count": 10,
   "id": "743fe5b2",
   "metadata": {},
   "outputs": [
    {
     "data": {
      "text/html": [
       "<div>\n",
       "<style scoped>\n",
       "    .dataframe tbody tr th:only-of-type {\n",
       "        vertical-align: middle;\n",
       "    }\n",
       "\n",
       "    .dataframe tbody tr th {\n",
       "        vertical-align: top;\n",
       "    }\n",
       "\n",
       "    .dataframe thead th {\n",
       "        text-align: right;\n",
       "    }\n",
       "</style>\n",
       "<table border=\"1\" class=\"dataframe\">\n",
       "  <thead>\n",
       "    <tr style=\"text-align: right;\">\n",
       "      <th></th>\n",
       "      <th>feature_1</th>\n",
       "      <th>feature_2</th>\n",
       "      <th>group</th>\n",
       "    </tr>\n",
       "  </thead>\n",
       "  <tbody>\n",
       "    <tr>\n",
       "      <th>0</th>\n",
       "      <td>-9.877554</td>\n",
       "      <td>-3.336145</td>\n",
       "      <td>0</td>\n",
       "    </tr>\n",
       "    <tr>\n",
       "      <th>1</th>\n",
       "      <td>-7.287210</td>\n",
       "      <td>-8.353986</td>\n",
       "      <td>2</td>\n",
       "    </tr>\n",
       "    <tr>\n",
       "      <th>2</th>\n",
       "      <td>-6.943061</td>\n",
       "      <td>-7.023744</td>\n",
       "      <td>2</td>\n",
       "    </tr>\n",
       "    <tr>\n",
       "      <th>3</th>\n",
       "      <td>-7.440167</td>\n",
       "      <td>-8.791959</td>\n",
       "      <td>2</td>\n",
       "    </tr>\n",
       "    <tr>\n",
       "      <th>4</th>\n",
       "      <td>-6.641388</td>\n",
       "      <td>-8.075888</td>\n",
       "      <td>2</td>\n",
       "    </tr>\n",
       "  </tbody>\n",
       "</table>\n",
       "</div>"
      ],
      "text/plain": [
       "   feature_1  feature_2  group\n",
       "0  -9.877554  -3.336145      0\n",
       "1  -7.287210  -8.353986      2\n",
       "2  -6.943061  -7.023744      2\n",
       "3  -7.440167  -8.791959      2\n",
       "4  -6.641388  -8.075888      2"
      ]
     },
     "execution_count": 10,
     "metadata": {},
     "output_type": "execute_result"
    }
   ],
   "source": [
    "dataframe.head()"
   ]
  },
  {
   "cell_type": "code",
   "execution_count": 12,
   "id": "11f1e864",
   "metadata": {},
   "outputs": [],
   "source": [
    "import matplotlib.pyplot as plt\n"
   ]
  },
  {
   "cell_type": "code",
   "execution_count": 14,
   "id": "72ca5b0e",
   "metadata": {},
   "outputs": [
    {
     "data": {
      "text/plain": [
       "<matplotlib.collections.PathCollection at 0x199009e4fa0>"
      ]
     },
     "execution_count": 14,
     "metadata": {},
     "output_type": "execute_result"
    },
    {
     "data": {
      "image/png": "[encoded data removed]",
      "text/plain": [
       "<Figure size 432x288 with 1 Axes>"
      ]
     },
     "metadata": {
      "needs_background": "light"
     },
     "output_type": "display_data"
    }
   ],
   "source": [
    "plt.scatter(dataframe['feature_1'], dataframe['feature_2'])"
   ]
  },
  {
   "cell_type": "code",
   "execution_count": 26,
   "id": "79748fd6",
   "metadata": {},
   "outputs": [],
   "source": [
    "from fancyimpute import KNN\n",
    "from sklearn.preprocessing import StandardScaler\n",
    "from sklearn.datasets import make_blobs\n",
    "import numpy as np"
   ]
  },
  {
   "cell_type": "markdown",
   "id": "ac29aca4",
   "metadata": {},
   "source": [
    "### 데이터의 양이 작으면 knn을 사용해 누락값 예측"
   ]
  },
  {
   "cell_type": "code",
   "execution_count": 28,
   "id": "27175991",
   "metadata": {},
   "outputs": [],
   "source": [
    "#모의 특성 행렬을 만든다.\n",
    "features, _ = make_blobs(n_samples= 1000, \n",
    "                        n_features=2,\n",
    "                        random_state=1)"
   ]
  },
  {
   "cell_type": "code",
   "execution_count": 35,
   "id": "966395ac",
   "metadata": {},
   "outputs": [],
   "source": [
    "#특성을 표준화한다.\n",
    "scaler= StandardScaler()\n",
    "standardized_features= scaler.fit_transform(features)"
   ]
  },
  {
   "cell_type": "code",
   "execution_count": 36,
   "id": "8110ee0a",
   "metadata": {},
   "outputs": [],
   "source": [
    "#첫샘플의 첫 특성을 삭제한다.\n",
    "true_value = standardized_features[0,0]\n",
    "standardized_features[0,0]= np.nan"
   ]
  },
  {
   "cell_type": "code",
   "execution_count": 37,
   "id": "ba1094b7",
   "metadata": {},
   "outputs": [],
   "source": [
    "#누락값을 예측한다.\n",
    "features_knn_imputed = KNN(k=5, verbose=0).fit_transform(standardized_features)"
   ]
  },
  {
   "cell_type": "code",
   "execution_count": 38,
   "id": "68a9e619",
   "metadata": {},
   "outputs": [
    {
     "name": "stdout",
     "output_type": "stream",
     "text": [
      "실제:0.8730186113995938, 대체:1.0955332713113226\n"
     ]
    }
   ],
   "source": [
    "print(f'실제:{true_value}, 대체:{features_knn_imputed[0,0]}')"
   ]
  },
  {
   "cell_type": "code",
   "execution_count": null,
   "id": "4a3acfb3",
   "metadata": {},
   "outputs": [],
   "source": []
  },
  {
   "cell_type": "code",
   "execution_count": null,
   "id": "98dbf459",
   "metadata": {},
   "outputs": [],
   "source": []
  }
 ],
 "metadata": {
  "kernelspec": {
   "display_name": "Python 3 (ipykernel)",
   "language": "python",
   "name": "python3"
  },
  "language_info": {
   "codemirror_mode": {
    "name": "ipython",
    "version": 3
   },
   "file_extension": ".py",
   "mimetype": "text/x-python",
   "name": "python",
   "nbconvert_exporter": "python",
   "pygments_lexer": "ipython3",
   "version": "3.9.7"
  }
 },
 "nbformat": 4,
 "nbformat_minor": 5
}
