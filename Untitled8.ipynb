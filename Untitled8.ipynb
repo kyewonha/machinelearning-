{
 "cells": [
  {
   "cell_type": "code",
   "execution_count": 1,
   "id": "3e32ec67",
   "metadata": {},
   "outputs": [
    {
     "name": "stdout",
     "output_type": "stream",
     "text": [
      "Requirement already satisfied: sklearn in c:\\users\\82109\\anaconda3\\lib\\site-packages (0.0.post1)\n",
      "Note: you may need to restart the kernel to use updated packages.\n"
     ]
    },
    {
     "name": "stderr",
     "output_type": "stream",
     "text": [
      "WARNING: Ignoring invalid distribution -atplotlib (c:\\users\\82109\\anaconda3\\lib\\site-packages)\n",
      "WARNING: Ignoring invalid distribution -atplotlib (c:\\users\\82109\\anaconda3\\lib\\site-packages)\n",
      "WARNING: Ignoring invalid distribution -atplotlib (c:\\users\\82109\\anaconda3\\lib\\site-packages)\n",
      "WARNING: Ignoring invalid distribution -atplotlib (c:\\users\\82109\\anaconda3\\lib\\site-packages)\n",
      "WARNING: Ignoring invalid distribution -atplotlib (c:\\users\\82109\\anaconda3\\lib\\site-packages)\n",
      "WARNING: Ignoring invalid distribution -atplotlib (c:\\users\\82109\\anaconda3\\lib\\site-packages)\n"
     ]
    }
   ],
   "source": [
    "pip install sklearn"
   ]
  },
  {
   "cell_type": "markdown",
   "id": "dda02ca4",
   "metadata": {},
   "source": [
    "## 특성 스케일 바꾸기"
   ]
  },
  {
   "cell_type": "markdown",
   "id": "f0c0df91",
   "metadata": {},
   "source": [
    "### Minmaxscaler : 최소 최대 스케일링"
   ]
  },
  {
   "cell_type": "code",
   "execution_count": 4,
   "id": "68b91041",
   "metadata": {},
   "outputs": [],
   "source": [
    "import numpy as np\n",
    "from sklearn import preprocessing"
   ]
  },
  {
   "cell_type": "code",
   "execution_count": 6,
   "id": "d5c9d8ba",
   "metadata": {},
   "outputs": [],
   "source": [
    "#스케일러 객체를 만든다"
   ]
  },
  {
   "cell_type": "code",
   "execution_count": 7,
   "id": "d373d2fb",
   "metadata": {},
   "outputs": [],
   "source": [
    "feature = np.array([[-500.5],[-100.1],[0],[100.1],[900.9]])\n",
    "minmax_scale = preprocessing.MinMaxScaler(feature_range=(0,1))"
   ]
  },
  {
   "cell_type": "code",
   "execution_count": 12,
   "id": "059f568c",
   "metadata": {},
   "outputs": [],
   "source": [
    "scaled_feature = minmax_scale.fit_transform(feature) #fit 과 transform 을 한꺼번에 해서 훈련/ 조정을 한 번에"
   ]
  },
  {
   "cell_type": "code",
   "execution_count": 13,
   "id": "1486f62d",
   "metadata": {},
   "outputs": [],
   "source": [
    "#0~1사이의 결과 반환"
   ]
  },
  {
   "cell_type": "code",
   "execution_count": 14,
   "id": "aa498440",
   "metadata": {},
   "outputs": [
    {
     "data": {
      "text/plain": [
       "array([[0.        ],\n",
       "       [0.28571429],\n",
       "       [0.35714286],\n",
       "       [0.42857143],\n",
       "       [1.        ]])"
      ]
     },
     "execution_count": 14,
     "metadata": {},
     "output_type": "execute_result"
    }
   ],
   "source": [
    "scaled_feature"
   ]
  },
  {
   "cell_type": "markdown",
   "id": "eabf4e98",
   "metadata": {},
   "source": [
    "### Robustscaler : 이상치가 많을 때 스케일링. 데이터에서 중간값을 빼고 IQR(75%의값 - 25%의값)로 나눈다."
   ]
  },
  {
   "cell_type": "code",
   "execution_count": 17,
   "id": "4e2d3850",
   "metadata": {},
   "outputs": [],
   "source": [
    "x= np.array([[-1000.1],[-200.2],[500.5],[600.6],[9000.9]])"
   ]
  },
  {
   "cell_type": "code",
   "execution_count": 18,
   "id": "171e4ee0",
   "metadata": {},
   "outputs": [
    {
     "data": {
      "text/plain": [
       "array([[-1.87387612],\n",
       "       [-0.875     ],\n",
       "       [ 0.        ],\n",
       "       [ 0.125     ],\n",
       "       [10.61488511]])"
      ]
     },
     "execution_count": 18,
     "metadata": {},
     "output_type": "execute_result"
    }
   ],
   "source": [
    "robust_scaler = preprocessing.RobustScaler()\n",
    "robust_scaler.fit_transform(x)"
   ]
  },
  {
   "cell_type": "markdown",
   "id": "d2548433",
   "metadata": {},
   "source": [
    "### 정규화하기 : 평균이 0 표준편차가 1로 맞춘다.\n"
   ]
  },
  {
   "cell_type": "code",
   "execution_count": null,
   "id": "922b1b83",
   "metadata": {},
   "outputs": [],
   "source": []
  }
 ],
 "metadata": {
  "kernelspec": {
   "display_name": "Python 3 (ipykernel)",
   "language": "python",
   "name": "python3"
  },
  "language_info": {
   "codemirror_mode": {
    "name": "ipython",
    "version": 3
   },
   "file_extension": ".py",
   "mimetype": "text/x-python",
   "name": "python",
   "nbconvert_exporter": "python",
   "pygments_lexer": "ipython3",
   "version": "3.9.7"
  }
 },
 "nbformat": 4,
 "nbformat_minor": 5
}
